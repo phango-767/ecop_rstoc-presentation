{
 "cells": [
  {
   "cell_type": "markdown",
   "id": "13f2a3f7",
   "metadata": {},
   "source": [
    "# 2. Python Overview"
   ]
  },
  {
   "cell_type": "markdown",
   "id": "0fbd42b3",
   "metadata": {},
   "source": []
  },
  {
   "cell_type": "markdown",
   "id": "4d49def1",
   "metadata": {},
   "source": [
    "----\n",
    "## Data structures and syntax\n",
    "\n",
    "### Basic\n",
    "- Logical: bool\n",
    "- Numeric: int, float, complex\n",
    "- Sequence: list, tuple, range\n",
    "- Text sequence: str\n",
    "- Map: dict\n",
    "\n",
    "#### Integers\n",
    "Integers are numbers with no decimal parts, such as -5, -4, -1, 0, 7, 10, 100, etc.\n",
    "\n",
    "To declare an integer in Python, simply write `variable_name = initial value`\n",
    "\n",
    "Example:\n",
    "`user_age = 20`\n",
    "\n",
    "#### Float\n",
    "Float refers to numbers that have decimal parts, such as 1.234, -3.543, 12.01, etc.\n",
    "\n",
    "To declare a float in Python, simply write `variable_name = initial value`\n",
    "\n",
    "Example:\n",
    "`user_height = 1.82`, `user_weight = 85.2` **OR** `user_height, user_weight = 1.82, 85.2`\n",
    "\n",
    "#### String\n",
    "String refers to text\n",
    "\n",
    "To declare a string, you can either use `variable_name = 'initial value'` (single quotes) **OR** `variable_name = \"initial value\"` (double quotes)\n",
    "\n",
    "Example:\n",
    "`user_name = 'Alan'` `user_surname = \"Turing\"` `user_age = '30'`\n",
    "\n",
    "**NB** Because we wrote `user_age = '30'`, `user_age` is a string. In contrast, if we wrote `user_age = 30` (no quotes), `user_age` would be an integer.\n",
    "\n",
    "##### Built-in String Functions\n",
    "Python includes a number of built-in functions to manipulate strings. An example of a function available in Python is the `upper()` method for strings. It can be used to capitalize all the letters in a string. For instance, `'Alan'.upper()` will give us the string `'ALAN'`. \n",
    "\n",
    "### Type Casting in Python\n",
    "Sometimes it is necessary to convert from one type to another, such as from an `int` to a `str` or from `str` to `int`\n",
    "\n",
    "There are three built-in functions in Python that allow us to do type casting. These are the `int()`, `float()`, and `str()` functions. \n",
    "\n",
    "The `int()` function takes in a float or a string and converts it to an integer. To change a float to an integer, we can type `int(5.71234)`. We'll get 5 as a result (anything after the decimal point is removed). To change a string to an integer, we can type `int(\"4\")` and we'll get 4. However, we cannot type `int(\"Hello\")` or `int('4.258746)`. We will get an error in both cases."
   ]
  },
  {
   "cell_type": "markdown",
   "id": "48e12a3c",
   "metadata": {},
   "source": [
    "----\n",
    "## Data Input/Output"
   ]
  },
  {
   "cell_type": "markdown",
   "id": "fdce14cb",
   "metadata": {},
   "source": [
    "____\n",
    "## Visualisation"
   ]
  },
  {
   "cell_type": "markdown",
   "id": "359f58bb",
   "metadata": {},
   "source": [
    "----\n",
    "## Programming Language"
   ]
  },
  {
   "cell_type": "markdown",
   "id": "17edff18",
   "metadata": {},
   "source": [
    "----\n",
    "## Modules Relevant to Ocean Colour Data Analysis"
   ]
  },
  {
   "cell_type": "markdown",
   "id": "eaec9b7b",
   "metadata": {},
   "source": [
    "----\n",
    "## Setting up a Python Working Environment\n",
    "\n",
    "With Conda, you can create, export, list, remove, and update environments that have different versions of Python and/or packages installed in them. Switching or moving between environments is called activating the environment. You can also share an environment file.\n",
    "\n",
    "`conda activate` and `conda deactivate` only work on conda 4.6 and later versions. For conda versions prior to 4.6, run:\n",
    "\n",
    "   - Windows: `activate` or `deactivate`\n",
    "   - Linux and macOS: `source activate` or `source deactivate`\n",
    "    \n",
    "https://conda.io/projects/conda/en/latest/user-guide/tasks/manage-environments.html\n",
    "\n",
    "----\n",
    "### Creating an environment with Commands\n",
    "Use the terminal or an Anaconda Prompt for the following steps:\n",
    "\n",
    "1. To create an environment:\n",
    "\n",
    "    `conda create --name myenv`\n",
    "    \n",
    "    **NB** Replace `myenv` with the environment name.\n",
    "    \n",
    "    \n",
    "2. When asked to proceed, type `y`:\n",
    "\n",
    "    `proceed ([y]/n)?`\n",
    "    \n",
    "    This creates ehe myenv environment in `/envs/`/ No packages will be installed in this environment.\n",
    "    \n",
    "    \n",
    "3. To create an environment with a specific version of Python:\n",
    "\n",
    "    `conda create -n myenv python = 3.9`\n",
    "    \n",
    "    \n",
    "4. To create an environment with a specific package:\n",
    "    \n",
    "    `conda create -n myenv scipy`    \n",
    "    OR    \n",
    "    `conda create -n myenv python\n",
    "    conda create -n myenc scipy`\n",
    "    \n",
    "    \n",
    "5. To create an environment with a specific version of a package:\n",
    "\n",
    "    `conda create -n myenv scipy=0.17.3`\n",
    "    \n",
    "    \n",
    "6. To create an environment with a specific version of Python and multiple packages:\n",
    "\n",
    "`conda create -n myenv python=3.9 scipy=0.17.3 astroid babel`\n",
    "\n",
    "**TIP:** Install all the programs  that you want in your environment at the same time. Installing 1 program at a time can lead to dependency conflicts.\n",
    "\n",
    "To automatically install pip or another program everytime a new environment is created, add the default programs to the `create_default_packages` section of your `.condarc` condiguration file. The default packages are installed everytime you create a new environment. If you do not want the default packages installed in a particular environment, use the `--no-default-packages` flag.\n",
    "\n",
    "        `conda create --no-default-packages -n myenv python`\n",
    "        \n",
    "        \n",
    "**TIP:** You can add much more to the `conda create` command. For details, run `conda create --help`\n",
    "\n",
    "\n",
    "----\n",
    "### Creating an environment from an `environment.yml` file\n",
    "\n",
    "Use the terminal or an Anaconda Prompt for the following steps:\n",
    "\n",
    "1. Create the environment from an existing `environment.yml` file:\n",
    "\n",
    "`conda env create -f environment.yml`\n",
    "        \n",
    "2. Activate the new environment \n",
    "\n",
    "`conda activate myenv`\n",
    "        \n",
    "3. Verify the new environment was installed correctly:\n",
    "\n",
    "`conda env list` or `conda info --envs`\n",
    "\n",
    "----\n",
    "### Updating an environment\n",
    "You may need to update your environment for a variety of reasons. For example, it may be the case that:\n",
    "\n",
    "- One of your core dependencies just released a new verion (dependency version number update).\n",
    "- You may need an additional package for data analysis (add a new dependency).\n",
    "- You may have found a better package and no longer need the older package (add new dependeny and remove old dependency).\n",
    "\n",
    "If any of these occur, all you need to do is update the contents of your `environment.yml` file accordingly and then run the following command:\n",
    "\n",
    "`$ conda env update --prefix ./env --file environment.yml  --prune`\n",
    "\n",
    "The `--prune` option causes conda to remove any dependencies that are no longer required from the environment.\n",
    "        "
   ]
  },
  {
   "cell_type": "markdown",
   "id": "bb78ab20",
   "metadata": {},
   "source": [
    "---\n",
    "### Cloning an environment\n",
    "Use the terminal or Anaconda Prompt for the following steps:\n",
    "\n",
    "You can make an exact copy of an environment by creating a clone of it:\n",
    "\n",
    "`conda create --name myclone myenv`\n",
    "\n",
    "Replace `myclone` with the name of the new environment. Replace `myenv` with the name of the existing environmnet that you want to copy. \n",
    "\n",
    "To verify that the copy was made:\n",
    "\n",
    "`conda info --envs`\n",
    "\n",
    "In the environments list that displays, you should see both the soure environment and the new copy.\n",
    "\n",
    "----\n",
    "### Determining your current environment\n",
    "\n",
    "Use the terminal or Anaconda Prompt for the following steps.\n",
    "\n",
    "By default, the active environment is shown in parentheses() or brackets [ ] at the beginning of your command prompt:\n",
    "\n",
    "`(myenv) $`"
   ]
  },
  {
   "cell_type": "markdown",
   "id": "c008a4d5",
   "metadata": {},
   "source": [
    "If you do not see this, run:\n",
    "\n",
    "`conda info --envs` OR `conda env list`"
   ]
  },
  {
   "cell_type": "markdown",
   "id": "f76d23cf",
   "metadata": {},
   "source": [
    "In the environments list that displays, you r current environmnet is highlighted with an asterisk (*).\n",
    "\n",
    "By default, the command prompt is set to show the name of the active environment. To disable this option:\n",
    "\n",
    "`conda config --set changeps1 false`\n",
    "\n",
    "To re-enable this option:\n",
    "\n",
    "`conda config --set changeps1 true`"
   ]
  },
  {
   "cell_type": "markdown",
   "id": "dcbc9f45",
   "metadata": {},
   "source": [
    "---\n",
    "### Viewing a lit of the packages in an environment\n",
    "To see a list of all packages in a specific environment:\n",
    "- If the environmnet is not activated, in your terminal window or an Anaconda Prompt, run:\n",
    "`conda list -n myenv`\n",
    "- If the environment is activated, in your terminal window or an Anaconda Prompt, run:\n",
    "` conda list`\n",
    "- To see if a specific package is installed in an environmnent, in your terminal window or an Anaconda Prompt, run:\n",
    "`conda list -n myenv scipy`"
   ]
  },
  {
   "cell_type": "code",
   "execution_count": null,
   "id": "a7c6afa1",
   "metadata": {},
   "outputs": [],
   "source": []
  }
 ],
 "metadata": {
  "kernelspec": {
   "display_name": "Python 3 (ipykernel)",
   "language": "python",
   "name": "python3"
  },
  "language_info": {
   "codemirror_mode": {
    "name": "ipython",
    "version": 3
   },
   "file_extension": ".py",
   "mimetype": "text/x-python",
   "name": "python",
   "nbconvert_exporter": "python",
   "pygments_lexer": "ipython3",
   "version": "3.9.0"
  }
 },
 "nbformat": 4,
 "nbformat_minor": 5
}
